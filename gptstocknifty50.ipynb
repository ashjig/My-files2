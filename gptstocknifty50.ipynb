{
  "nbformat": 4,
  "nbformat_minor": 0,
  "metadata": {
    "colab": {
      "provenance": [],
      "authorship_tag": "ABX9TyOuLFlLWHzUSZBXEg9OOulz",
      "include_colab_link": true
    },
    "kernelspec": {
      "name": "python3",
      "display_name": "Python 3"
    },
    "language_info": {
      "name": "python"
    }
  },
  "cells": [
    {
      "cell_type": "markdown",
      "metadata": {
        "id": "view-in-github",
        "colab_type": "text"
      },
      "source": [
        "<a href=\"https://colab.research.google.com/github/ashjig/My-files2/blob/main/gptstocknifty50.ipynb\" target=\"_parent\"><img src=\"https://colab.research.google.com/assets/colab-badge.svg\" alt=\"Open In Colab\"/></a>"
      ]
    },
    {
      "cell_type": "code",
      "execution_count": null,
      "metadata": {
        "id": "kTo84uIJQncu"
      },
      "outputs": [],
      "source": [
        "import numpy as np\n",
        "import pandas as pd\n",
        "import matplotlib.pyplot as plt\n",
        "from sklearn.model_selection import train_test_split\n",
        "from sklearn.preprocessing import MinMaxScaler\n",
        "from tensorflow.keras.models import Sequential\n",
        "from tensorflow.keras.layers import LSTM, Dense"
      ]
    },
    {
      "cell_type": "code",
      "source": [
        "# Function to load Nifty50 stock data\n",
        "def load_nifty50_data():\n",
        "    # Replace 'path/to/nifty50_data.csv' with the actual path to your dataset\n",
        "    nifty50_data = pd.read_csv('path/to/nifty50_data.csv', parse_dates=True, index_col='Date')\n",
        "    return nifty50_data\n",
        "\n",
        "# Function to load constituent stocks data\n",
        "def load_constituent_stocks_data():\n",
        "    # Replace 'path/to/constituent_stocks_data.csv' with the actual path to your dataset\n",
        "    stocks_data = pd.read_csv('path/to/constituent_stocks_data.csv', parse_dates=True, index_col='Date')\n",
        "    return stocks_data\n",
        "\n",
        "# Function to preprocess data\n",
        "def preprocess_data(nifty50_data, stocks_data):\n",
        "    # Combine Nifty50 and constituent stocks data\n",
        "    combined_data = pd.concat([nifty50_data['Close'], stocks_data], axis=1)\n",
        "\n",
        "    # Forward-fill missing values\n",
        "    combined_data = combined_data.ffill()\n",
        "\n",
        "    # Create weekly close data\n",
        "    weekly_close = combined_data.resample('W-Fri').last()\n",
        "\n",
        "    return weekly_close\n",
        "\n",
        "# Function to create sequences for time series data\n",
        "def create_sequences(data, seq_length):\n",
        "    sequences, labels = [], []\n",
        "    for i in range(len(data) - seq_length):\n",
        "        seq = data[i:i+seq_length]\n",
        "        label = data.iloc[i + seq_length]\n",
        "        sequences.append(seq)\n",
        "        labels.append(label)\n",
        "    return np.array(sequences), np.array(labels)\n",
        "\n",
        "# Load data\n",
        "nifty50_data = load_nifty50_data()\n",
        "constituent_stocks_data = load_constituent_stocks_data()\n",
        "\n",
        "# Preprocess data\n",
        "weekly_close_data = preprocess_data(nifty50_data, constituent_stocks_data)\n",
        "\n",
        "# Normalize the data\n",
        "scaler = MinMaxScaler(feature_range=(0, 1))\n",
        "scaled_data = scaler.fit_transform(weekly_close_data)\n",
        "\n",
        "# Set the sequence length\n",
        "sequence_length = 10\n",
        "\n",
        "# Create sequences and labels\n",
        "X, y = create_sequences(pd.DataFrame(scaled_data), sequence_length)\n",
        "\n",
        "# Split the data into training and testing sets\n",
        "X_train, X_test, y_train, y_test = train_test_split(X, y, test_size=0.2, random_state=42)\n",
        "\n",
        "# Build the LSTM model\n",
        "model = Sequential()\n",
        "model.add(LSTM(units=50, return_sequences=True, input_shape=(X_train.shape[1], X_train.shape[2])))\n",
        "model.add(LSTM(units=50))\n",
        "model.add(Dense(units=1))\n",
        "model.compile(optimizer='adam', loss='mean_squared_error')\n",
        "\n",
        "# Train the model\n",
        "model.fit(X_train, y_train, epochs=10, batch_size=32)\n",
        "\n",
        "# Evaluate the model on the test set\n",
        "loss = model.evaluate(X_test, y_test)\n",
        "print(f'Mean Squared Error on Test Set: {loss}')\n",
        "\n",
        "# Make predictions on the test set\n",
        "predictions = model.predict(X_test)\n",
        "\n",
        "# Inverse transform the predictions and actual values to their original scale\n",
        "predictions = scaler.inverse_transform(predictions)\n",
        "y_test = scaler.inverse_transform(y_test)\n",
        "\n",
        "# Plot the results\n",
        "plt.figure(figsize=(12, 6))\n",
        "plt.plot(predictions, label='Predicted Weekly Close')\n",
        "plt.plot(y_test, label='Actual Weekly Close')\n",
        "plt.legend()\n",
        "plt.show()"
      ],
      "metadata": {
        "id": "nQ9kEQT9Q2UV"
      },
      "execution_count": null,
      "outputs": []
    }
  ]
}