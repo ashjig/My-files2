{
  "nbformat": 4,
  "nbformat_minor": 0,
  "metadata": {
    "colab": {
      "provenance": [],
      "authorship_tag": "ABX9TyNnVphWimcecLdh+awebx3x",
      "include_colab_link": true
    },
    "kernelspec": {
      "name": "python3",
      "display_name": "Python 3"
    },
    "language_info": {
      "name": "python"
    }
  },
  "cells": [
    {
      "cell_type": "markdown",
      "metadata": {
        "id": "view-in-github",
        "colab_type": "text"
      },
      "source": [
        "<a href=\"https://colab.research.google.com/github/ashjig/My-files2/blob/main/gptstockprediction.ipynb\" target=\"_parent\"><img src=\"https://colab.research.google.com/assets/colab-badge.svg\" alt=\"Open In Colab\"/></a>"
      ]
    },
    {
      "cell_type": "code",
      "source": [
        "import numpy as np\n",
        "import pandas as pd\n",
        "import matplotlib.pyplot as plt\n",
        "from sklearn.preprocessing import MinMaxScaler\n",
        "from tensorflow.keras.models import Sequential\n",
        "from tensorflow.keras.layers import LSTM, Dense"
      ],
      "metadata": {
        "id": "dkKrRPYZPsz2"
      },
      "execution_count": null,
      "outputs": []
    },
    {
      "cell_type": "code",
      "source": [
        "# Load the stock price data\n",
        "# Replace 'your_data.csv' with the actual path to your stock price dataset\n",
        "data = pd.read_csv('your_data.csv')\n",
        "data = data['Close'].values.reshape(-1, 1)"
      ],
      "metadata": {
        "id": "ipcBkqOcPuo_"
      },
      "execution_count": null,
      "outputs": []
    },
    {
      "cell_type": "code",
      "source": [
        "# Normalize the data\n",
        "scaler = MinMaxScaler(feature_range=(0, 1))\n",
        "data_normalized = scaler.fit_transform(data)\n"
      ],
      "metadata": {
        "id": "vAFVRIqCP5hl"
      },
      "execution_count": null,
      "outputs": []
    },
    {
      "cell_type": "code",
      "source": [
        "# Split the data into training and testing sets\n",
        "train_size = int(len(data_normalized) * 0.8)\n",
        "train_data, test_data = data_normalized[:train_size], data_normalized[train_size:]\n"
      ],
      "metadata": {
        "id": "DhX4DTZqP-tK"
      },
      "execution_count": null,
      "outputs": []
    },
    {
      "cell_type": "code",
      "source": [
        "#Function to create sequences for time series data\n",
        "def create_sequences(data, seq_length):\n",
        "    sequences = []\n",
        "    for i in range(len(data) - seq_length):\n",
        "        seq = data[i:i+seq_length]\n",
        "        sequences.append(seq)\n",
        "    return np.array(sequences)"
      ],
      "metadata": {
        "id": "GBquV8IRQCo9"
      },
      "execution_count": null,
      "outputs": []
    },
    {
      "cell_type": "code",
      "source": [
        "# Set the sequence length\n",
        "sequence_length = 10\n",
        "\n",
        "# Create sequences for training and testing sets\n",
        "X_train = create_sequences(train_data, sequence_length)\n",
        "y_train = train_data[sequence_length:]\n",
        "X_test = create_sequences(test_data, sequence_length)\n",
        "y_test = test_data[sequence_length:]\n"
      ],
      "metadata": {
        "id": "4Cxn5yZhQIim"
      },
      "execution_count": null,
      "outputs": []
    },
    {
      "cell_type": "code",
      "source": [
        " Build the LSTM model\n",
        "model = Sequential()\n",
        "model.add(LSTM(units=50, return_sequences=True, input_shape=(X_train.shape[1], 1)))\n",
        "model.add(LSTM(units=50))\n",
        "model.add(Dense(units=1))\n",
        "model.compile(optimizer='adam', loss='mean_squared_error')\n"
      ],
      "metadata": {
        "id": "iqUZFfVwQMpf"
      },
      "execution_count": null,
      "outputs": []
    },
    {
      "cell_type": "code",
      "source": [
        "# Train the model\n",
        "model.fit(X_train, y_train, epochs=10, batch_size=32)\n",
        "\n",
        "# Make predictions on the test set\n",
        "predictions = model.predict(X_test)"
      ],
      "metadata": {
        "id": "zYdPyDIsQRtb"
      },
      "execution_count": null,
      "outputs": []
    },
    {
      "cell_type": "code",
      "source": [
        "\n",
        "# Inverse transform the predictions and actual values to their original scale\n",
        "predictions = scaler.inverse_transform(predictions)\n",
        "y_test = scaler.inverse_transform(y_test)\n",
        "\n",
        "# Plot the results\n",
        "plt.figure(figsize=(12, 6))\n",
        "plt.plot(predictions, label='Predicted Stock Price')\n",
        "plt.plot(y_test, label='Actual Stock Price')\n",
        "plt.legend()\n",
        "plt.show()"
      ],
      "metadata": {
        "id": "GupW2Vr1QWCD"
      },
      "execution_count": null,
      "outputs": []
    }
  ]
}